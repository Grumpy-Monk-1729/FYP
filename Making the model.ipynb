{
 "cells": [
  {
   "cell_type": "code",
   "execution_count": 1,
   "metadata": {
    "_cell_guid": "b1076dfc-b9ad-4769-8c92-a6c4dae69d19",
    "_uuid": "8f2839f25d086af736a60e9eeb907d3b93b6e0e5"
   },
   "outputs": [],
   "source": [
    "# This Python 3 environment comes with many helpful analytics libraries installed\n",
    "# It is defined by the kaggle/python Docker image: https://github.com/kaggle/docker-python\n",
    "# For example, here's several helpful packages to load\n",
    "\n",
    "import numpy as np # linear algebra\n",
    "import pandas as pd # data processing, CSV file I/O (e.g. pd.read_csv)\n",
    "from skimage.transform import resize\n",
    "from tqdm import tqdm\n",
    "import matplotlib.pyplot as plt\n",
    "import numpy as np\n",
    "%matplotlib inline\n",
    "\n",
    "# Input data files are available in the read-only \"../input/\" directory\n",
    "# For example, running this (by clicking run or pressing Shift+Enter) will list all files under the input directory\n",
    "\n",
    "# You can write up to 20GB to the current directory (/kaggle/working/) that gets preserved as output when you create a version using \"Save & Run All\" \n",
    "# You can also write temporary files to /kaggle/temp/, but they won't be saved outside of the current session"
   ]
  },
  {
   "cell_type": "code",
   "execution_count": 2,
   "metadata": {},
   "outputs": [
    {
     "data": {
      "text/plain": [
       "17736"
      ]
     },
     "execution_count": 2,
     "metadata": {},
     "output_type": "execute_result"
    }
   ],
   "source": [
    "X_train = np.load('X.npy')\n",
    "y_train = np.load('y.npy')\n",
    "len(X_train)"
   ]
  },
  {
   "cell_type": "code",
   "execution_count": 3,
   "metadata": {},
   "outputs": [],
   "source": [
    "#Shuffle the Array\n",
    "shuffler = np.random.permutation(len(y_train))\n",
    "X_train = X_train[shuffler]\n",
    "y_train = y_train[shuffler]"
   ]
  },
  {
   "cell_type": "code",
   "execution_count": 4,
   "metadata": {},
   "outputs": [],
   "source": [
    "ORIG_SHAPE = (256,256)\n",
    "CROP_SIZE = (128,128)\n",
    "IMG_SHAPE = (64,64)"
   ]
  },
  {
   "cell_type": "code",
   "execution_count": 5,
   "metadata": {},
   "outputs": [],
   "source": [
    "from skimage.transform import resize\n",
    "def get_image(x, x1,y1, shape, crop_size):\n",
    "    x = x[x1:x1+crop_size[0], y1:y1+crop_size[1]]\n",
    "    x = resize(x, shape)\n",
    "    return x"
   ]
  },
  {
   "cell_type": "code",
   "execution_count": 6,
   "metadata": {},
   "outputs": [],
   "source": [
    "#Reduce dimensions from 256,256 to 64,64\n",
    "x1 = (ORIG_SHAPE[0]-CROP_SIZE[0])//2\n",
    "y1 = (ORIG_SHAPE[1]-CROP_SIZE[1])//2\n",
    "x_t = []\n",
    "for i in range(len(X_train)):\n",
    "    x_t.append(get_image(X_train[i],x1,y1,IMG_SHAPE,CROP_SIZE))\n",
    "del X_train"
   ]
  },
  {
   "cell_type": "code",
   "execution_count": 7,
   "metadata": {},
   "outputs": [],
   "source": [
    "x_t = np.array(x_t)\n",
    "y = y_train\n",
    "del y_train"
   ]
  },
  {
   "cell_type": "code",
   "execution_count": 8,
   "metadata": {},
   "outputs": [
    {
     "data": {
      "text/plain": [
       "Text(0.5, 1.0, '6')"
      ]
     },
     "execution_count": 8,
     "metadata": {},
     "output_type": "execute_result"
    },
    {
     "data": {
      "image/png": "[encoded data removed]",
      "text/plain": [
       "<Figure size 432x288 with 1 Axes>"
      ]
     },
     "metadata": {
      "needs_background": "light"
     },
     "output_type": "display_data"
    }
   ],
   "source": [
    "plt.imshow(x_t[0])\n",
    "plt.title(y[0])"
   ]
  },
  {
   "cell_type": "code",
   "execution_count": 9,
   "metadata": {},
   "outputs": [
    {
     "data": {
      "text/plain": [
       "OneHotEncoder(handle_unknown='ignore')"
      ]
     },
     "execution_count": 9,
     "metadata": {},
     "output_type": "execute_result"
    }
   ],
   "source": [
    "from sklearn.preprocessing import OneHotEncoder\n",
    "enc = OneHotEncoder(handle_unknown='ignore')\n",
    "one = [['Disturbed Galaxies', 0],['Merging Galaxies',1],['Round Smooth Galaxies',2],['In-between Round Smooth Galaxies',3],['Cigar Shaped Smooth Galaxies',4],['Barred Spiral Galaxies',5],['Unbarred Tight Spiral Galaxies',6],['Unbarred Loose Spiral Galaxies',7],['Edge-on Galaxies without Bulge',8],['Edge-on Galaxies with Bulge',9]]\n",
    "enc.fit(one)"
   ]
  },
  {
   "cell_type": "code",
   "execution_count": 10,
   "metadata": {},
   "outputs": [],
   "source": [
    "#OneHot Encoder\n",
    "ytrain = np.zeros((len(y),10), np.int32)\n",
    "i=0\n",
    "for arr in ytrain:\n",
    "    arr[y[i]] = 1\n",
    "    i = i + 1\n",
    "del y"
   ]
  },
  {
   "cell_type": "code",
   "execution_count": 11,
   "metadata": {},
   "outputs": [
    {
     "name": "stderr",
     "output_type": "stream",
     "text": [
      "Using TensorFlow backend.\n"
     ]
    }
   ],
   "source": [
    "import tensorflow as tf"
   ]
  },
  {
   "cell_type": "code",
   "execution_count": 12,
   "metadata": {},
   "outputs": [
    {
     "name": "stdout",
     "output_type": "stream",
     "text": [
      "Model: \"sequential\"\n",
      "_________________________________________________________________\n",
      "Layer (type)                 Output Shape              Param #   \n",
      "=================================================================\n",
      "conv2d (Conv2D)              (None, 62, 62, 512)       14336     \n",
      "_________________________________________________________________\n",
      "conv2d_1 (Conv2D)            (None, 60, 60, 256)       1179904   \n",
      "_________________________________________________________________\n",
      "batch_normalization (BatchNo (None, 60, 60, 256)       1024      \n",
      "_________________________________________________________________\n",
      "activation (Activation)      (None, 60, 60, 256)       0         \n",
      "_________________________________________________________________\n",
      "max_pooling2d (MaxPooling2D) (None, 30, 30, 256)       0         \n",
      "_________________________________________________________________\n",
      "conv2d_2 (Conv2D)            (None, 28, 28, 256)       590080    \n",
      "_________________________________________________________________\n",
      "conv2d_3 (Conv2D)            (None, 26, 26, 128)       295040    \n",
      "_________________________________________________________________\n",
      "batch_normalization_1 (Batch (None, 26, 26, 128)       512       \n",
      "_________________________________________________________________\n",
      "activation_1 (Activation)    (None, 26, 26, 128)       0         \n",
      "_________________________________________________________________\n",
      "max_pooling2d_1 (MaxPooling2 (None, 13, 13, 128)       0         \n",
      "_________________________________________________________________\n",
      "conv2d_4 (Conv2D)            (None, 11, 11, 128)       147584    \n",
      "_________________________________________________________________\n",
      "conv2d_5 (Conv2D)            (None, 9, 9, 128)         147584    \n",
      "_________________________________________________________________\n",
      "batch_normalization_2 (Batch (None, 9, 9, 128)         512       \n",
      "_________________________________________________________________\n",
      "activation_2 (Activation)    (None, 9, 9, 128)         0         \n",
      "_________________________________________________________________\n",
      "global_max_pooling2d (Global (None, 128)               0         \n",
      "_________________________________________________________________\n",
      "dropout (Dropout)            (None, 128)               0         \n",
      "_________________________________________________________________\n",
      "dense (Dense)                (None, 128)               16512     \n",
      "_________________________________________________________________\n",
      "activation_3 (Activation)    (None, 128)               0         \n",
      "_________________________________________________________________\n",
      "dropout_1 (Dropout)          (None, 128)               0         \n",
      "_________________________________________________________________\n",
      "dense_1 (Dense)              (None, 128)               16512     \n",
      "_________________________________________________________________\n",
      "activation_4 (Activation)    (None, 128)               0         \n",
      "_________________________________________________________________\n",
      "dropout_2 (Dropout)          (None, 128)               0         \n",
      "_________________________________________________________________\n",
      "dense_2 (Dense)              (None, 128)               16512     \n",
      "_________________________________________________________________\n",
      "activation_5 (Activation)    (None, 128)               0         \n",
      "_________________________________________________________________\n",
      "dropout_3 (Dropout)          (None, 128)               0         \n",
      "_________________________________________________________________\n",
      "dense_3 (Dense)              (None, 10)                1290      \n",
      "_________________________________________________________________\n",
      "activation_6 (Activation)    (None, 10)                0         \n",
      "=================================================================\n",
      "Total params: 2,427,402\n",
      "Trainable params: 2,426,378\n",
      "Non-trainable params: 1,024\n",
      "_________________________________________________________________\n"
     ]
    }
   ],
   "source": [
    "#Creating a Model\n",
    "from tensorflow.keras.models import Sequential\n",
    "from tensorflow.keras.layers import Conv2D, MaxPooling2D\n",
    "from tensorflow.keras.layers import Activation, Dropout, Flatten, Dense, BatchNormalization, GlobalMaxPooling2D\n",
    "from keras import backend as K\n",
    "\n",
    "def root_mean_squared_error(y_true, y_pred):\n",
    "        return K.sqrt(K.mean(K.square(y_pred - y_true))) \n",
    "\n",
    "model = Sequential()\n",
    "model.add(Conv2D(512, (3, 3), input_shape=(IMG_SHAPE[0], IMG_SHAPE[1], 3)))\n",
    "model.add(Conv2D(256, (3, 3)))\n",
    "model.add(BatchNormalization())\n",
    "model.add(Activation('relu'))\n",
    "model.add(MaxPooling2D(pool_size=(2, 2)))\n",
    "\n",
    "model.add(Conv2D(256, (3, 3)))\n",
    "model.add(Conv2D(128, (3, 3)))\n",
    "model.add(BatchNormalization())\n",
    "model.add(Activation('relu'))\n",
    "model.add(MaxPooling2D(pool_size=(2, 2)))\n",
    "\n",
    "model.add(Conv2D(128, (3, 3)))\n",
    "model.add(Conv2D(128, (3, 3)))\n",
    "model.add(BatchNormalization())\n",
    "model.add(Activation('relu'))\n",
    "model.add(GlobalMaxPooling2D())\n",
    "\n",
    "\n",
    "model.add(Dropout(0.25))\n",
    "model.add(Dense(128))\n",
    "model.add(Activation('relu'))\n",
    "model.add(Dropout(0.25))\n",
    "model.add(Dense(128))\n",
    "model.add(Activation('relu'))\n",
    "model.add(Dropout(0.25))\n",
    "model.add(Dense(128))\n",
    "model.add(Activation('relu'))\n",
    "model.add(Dropout(0.25))\n",
    "model.add(Dense(10))\n",
    "model.add(Activation('sigmoid'))\n",
    "\n",
    "model.compile(loss='binary_crossentropy', optimizer='adamax', metrics=[root_mean_squared_error])\n",
    "model.summary()"
   ]
  },
  {
   "cell_type": "code",
   "execution_count": 13,
   "metadata": {},
   "outputs": [
    {
     "name": "stdout",
     "output_type": "stream",
     "text": [
      "Epoch 1/30\n",
      "555/555 [==============================] - 90s 155ms/step - loss: 0.3149 - root_mean_squared_error: 0.2999 - val_loss: 0.2734 - val_root_mean_squared_error: 0.2819\n",
      "Epoch 2/30\n",
      "555/555 [==============================] - 84s 151ms/step - loss: 0.2674 - root_mean_squared_error: 0.2798 - val_loss: 0.2397 - val_root_mean_squared_error: 0.2664\n",
      "Epoch 3/30\n",
      "555/555 [==============================] - 85s 153ms/step - loss: 0.2445 - root_mean_squared_error: 0.2684 - val_loss: 0.2190 - val_root_mean_squared_error: 0.2537\n",
      "Epoch 4/30\n",
      "555/555 [==============================] - 83s 149ms/step - loss: 0.2202 - root_mean_squared_error: 0.2542 - val_loss: 0.2313 - val_root_mean_squared_error: 0.2595\n",
      "Epoch 5/30\n",
      "555/555 [==============================] - 83s 149ms/step - loss: 0.2024 - root_mean_squared_error: 0.2433 - val_loss: 0.1882 - val_root_mean_squared_error: 0.2335\n",
      "Epoch 6/30\n",
      "555/555 [==============================] - 83s 149ms/step - loss: 0.1896 - root_mean_squared_error: 0.2346 - val_loss: 0.1666 - val_root_mean_squared_error: 0.2210\n",
      "Epoch 7/30\n",
      "555/555 [==============================] - 83s 150ms/step - loss: 0.1784 - root_mean_squared_error: 0.2273 - val_loss: 0.1546 - val_root_mean_squared_error: 0.2121\n",
      "Epoch 8/30\n",
      "555/555 [==============================] - 83s 150ms/step - loss: 0.1697 - root_mean_squared_error: 0.2208 - val_loss: 0.1434 - val_root_mean_squared_error: 0.2039\n",
      "Epoch 9/30\n",
      "555/555 [==============================] - 83s 150ms/step - loss: 0.1634 - root_mean_squared_error: 0.2163 - val_loss: 0.1571 - val_root_mean_squared_error: 0.2129\n",
      "Epoch 10/30\n",
      "555/555 [==============================] - 83s 149ms/step - loss: 0.1572 - root_mean_squared_error: 0.2122 - val_loss: 0.1451 - val_root_mean_squared_error: 0.2042\n",
      "Epoch 11/30\n",
      "555/555 [==============================] - 83s 150ms/step - loss: 0.1515 - root_mean_squared_error: 0.2080 - val_loss: 0.1160 - val_root_mean_squared_error: 0.1805\n",
      "Epoch 12/30\n",
      "555/555 [==============================] - 83s 150ms/step - loss: 0.1457 - root_mean_squared_error: 0.2037 - val_loss: 0.1400 - val_root_mean_squared_error: 0.1991\n",
      "Epoch 13/30\n",
      "555/555 [==============================] - 83s 150ms/step - loss: 0.1414 - root_mean_squared_error: 0.2000 - val_loss: 0.1525 - val_root_mean_squared_error: 0.2084\n",
      "Epoch 14/30\n",
      "555/555 [==============================] - 84s 152ms/step - loss: 0.1391 - root_mean_squared_error: 0.1981 - val_loss: 0.1202 - val_root_mean_squared_error: 0.1819\n",
      "Epoch 15/30\n",
      "555/555 [==============================] - 82s 148ms/step - loss: 0.1347 - root_mean_squared_error: 0.1947 - val_loss: 0.1235 - val_root_mean_squared_error: 0.1870\n",
      "Epoch 16/30\n",
      "555/555 [==============================] - 82s 148ms/step - loss: 0.1310 - root_mean_squared_error: 0.1922 - val_loss: 0.1048 - val_root_mean_squared_error: 0.1711\n",
      "Epoch 17/30\n",
      "555/555 [==============================] - 83s 149ms/step - loss: 0.1279 - root_mean_squared_error: 0.1893 - val_loss: 0.2124 - val_root_mean_squared_error: 0.2456\n",
      "Epoch 18/30\n",
      "555/555 [==============================] - 83s 150ms/step - loss: 0.1249 - root_mean_squared_error: 0.1871 - val_loss: 0.1123 - val_root_mean_squared_error: 0.1779\n",
      "Epoch 19/30\n",
      "555/555 [==============================] - 83s 150ms/step - loss: 0.1224 - root_mean_squared_error: 0.1848 - val_loss: 0.1102 - val_root_mean_squared_error: 0.1754\n",
      "Epoch 20/30\n",
      "555/555 [==============================] - 83s 150ms/step - loss: 0.1197 - root_mean_squared_error: 0.1832 - val_loss: 0.1185 - val_root_mean_squared_error: 0.1828\n",
      "Epoch 21/30\n",
      "555/555 [==============================] - 83s 150ms/step - loss: 0.1181 - root_mean_squared_error: 0.1814 - val_loss: 0.1056 - val_root_mean_squared_error: 0.1739\n",
      "Epoch 22/30\n",
      "555/555 [==============================] - 83s 150ms/step - loss: 0.1159 - root_mean_squared_error: 0.1799 - val_loss: 0.1187 - val_root_mean_squared_error: 0.1822\n",
      "Epoch 23/30\n",
      "555/555 [==============================] - 83s 150ms/step - loss: 0.1147 - root_mean_squared_error: 0.1786 - val_loss: 0.1015 - val_root_mean_squared_error: 0.1687\n",
      "Epoch 24/30\n",
      "555/555 [==============================] - 83s 150ms/step - loss: 0.1133 - root_mean_squared_error: 0.1773 - val_loss: 0.0951 - val_root_mean_squared_error: 0.1626\n",
      "Epoch 25/30\n",
      "555/555 [==============================] - 83s 150ms/step - loss: 0.1109 - root_mean_squared_error: 0.1749 - val_loss: 0.0927 - val_root_mean_squared_error: 0.1585\n",
      "Epoch 26/30\n",
      "555/555 [==============================] - 83s 150ms/step - loss: 0.1068 - root_mean_squared_error: 0.1725 - val_loss: 0.1049 - val_root_mean_squared_error: 0.1709\n",
      "Epoch 27/30\n",
      "555/555 [==============================] - 83s 150ms/step - loss: 0.1075 - root_mean_squared_error: 0.1725 - val_loss: 0.0989 - val_root_mean_squared_error: 0.1656\n",
      "Epoch 28/30\n",
      "555/555 [==============================] - 83s 150ms/step - loss: 0.1053 - root_mean_squared_error: 0.1704 - val_loss: 0.0924 - val_root_mean_squared_error: 0.1601\n",
      "Epoch 29/30\n",
      "555/555 [==============================] - 83s 150ms/step - loss: 0.1036 - root_mean_squared_error: 0.1689 - val_loss: 0.0852 - val_root_mean_squared_error: 0.1538\n",
      "Epoch 30/30\n",
      "555/555 [==============================] - 84s 151ms/step - loss: 0.1005 - root_mean_squared_error: 0.1671 - val_loss: 0.0896 - val_root_mean_squared_error: 0.1571\n"
     ]
    },
    {
     "data": {
      "text/plain": [
       "<tensorflow.python.keras.callbacks.History at 0x2d7f851e520>"
      ]
     },
     "execution_count": 13,
     "metadata": {},
     "output_type": "execute_result"
    }
   ],
   "source": [
    "batch_size = 128\n",
    "model.fit(x_t, ytrain, epochs=30, validation_data=(x_t,ytrain))"
   ]
  },
  {
   "cell_type": "code",
   "execution_count": null,
   "metadata": {},
   "outputs": [],
   "source": []
  },
  {
   "cell_type": "code",
   "execution_count": null,
   "metadata": {},
   "outputs": [],
   "source": []
  },
  {
   "cell_type": "code",
   "execution_count": 14,
   "metadata": {},
   "outputs": [],
   "source": [
    "model.save(\"model_no_weights_17000.h5\")\n",
    "model.save_weights(\"model_weights_17000.h5\")"
   ]
  },
  {
   "cell_type": "code",
   "execution_count": null,
   "metadata": {},
   "outputs": [],
   "source": []
  }
 ],
 "metadata": {
  "kernelspec": {
   "display_name": "Python 3 (ipykernel)",
   "language": "python",
   "name": "python3"
  },
  "language_info": {
   "codemirror_mode": {
    "name": "ipython",
    "version": 3
   },
   "file_extension": ".py",
   "mimetype": "text/x-python",
   "name": "python",
   "nbconvert_exporter": "python",
   "pygments_lexer": "ipython3",
   "version": "3.9.7"
  }
 },
 "nbformat": 4,
 "nbformat_minor": 4
}
